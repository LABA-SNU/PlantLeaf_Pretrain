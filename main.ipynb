{
 "cells": [
  {
   "cell_type": "code",
   "execution_count": 1,
   "id": "c0b9c18e-2fa6-4b8b-b1e3-64d8aacb5771",
   "metadata": {},
   "outputs": [
    {
     "data": {
      "text/plain": [
       "tensor([0., 0., 0.])"
      ]
     },
     "execution_count": 1,
     "metadata": {},
     "output_type": "execute_result"
    }
   ],
   "source": [
    "import torch\n",
    "import torch.nn as nn\n",
    "import torchvision.models as models\n",
    "\n",
    "model = models.resnet50(weights=None)\n",
    "in_features = model.fc.in_features\n",
    "cls_num = 3\n",
    "\n",
    "# load pretrained model\n",
    "plantleaf_pretrained = torch.load('./models/byol/resnet/plantleaf_byol_resnet50.pth')\n",
    "model.load_state_dict(plantleaf_pretrained)\n",
    "\n",
    "# fc layer weight initialization\n",
    "weights_dist = {}\n",
    "for name, layer in model.named_modules():\n",
    "    if hasattr(layer, 'weight') and isinstance(layer.weight, torch.nn.parameter.Parameter):\n",
    "        weights_dist[name] = (layer.weight.data.mean().item(), layer.weight.data.std().item())\n",
    "\n",
    "last_layer_name = list(weights_dist.keys())[-1]\n",
    "mean, std = weights_dist[last_layer_name]\n",
    "\n",
    "model.fc = nn.Linear(in_features, cls_num)\n",
    "model.fc.weight.data.normal_(mean, std)\n",
    "model.fc.bias.data.zero_()"
   ]
  },
  {
   "cell_type": "code",
   "execution_count": null,
   "id": "1f4f0ec1-ff91-4110-a75b-c87641319b26",
   "metadata": {},
   "outputs": [],
   "source": []
  }
 ],
 "metadata": {
  "kernelspec": {
   "display_name": "Python 3 (ipykernel)",
   "language": "python",
   "name": "python3"
  },
  "language_info": {
   "codemirror_mode": {
    "name": "ipython",
    "version": 3
   },
   "file_extension": ".py",
   "mimetype": "text/x-python",
   "name": "python",
   "nbconvert_exporter": "python",
   "pygments_lexer": "ipython3",
   "version": "3.8.19"
  }
 },
 "nbformat": 4,
 "nbformat_minor": 5
}
